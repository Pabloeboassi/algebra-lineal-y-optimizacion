{
  "nbformat": 4,
  "nbformat_minor": 0,
  "metadata": {
    "kernelspec": {
      "display_name": "Python 3",
      "language": "python",
      "name": "python3"
    },
    "language_info": {
      "codemirror_mode": {
        "name": "ipython",
        "version": 3
      },
      "file_extension": ".py",
      "mimetype": "text/x-python",
      "name": "python",
      "nbconvert_exporter": "python",
      "pygments_lexer": "ipython3",
      "version": "3.8.5"
    },
    "colab": {
      "name": "Copia de Actividad.ipynb",
      "provenance": [],
      "collapsed_sections": [],
      "include_colab_link": true
    }
  },
  "cells": [
    {
      "cell_type": "markdown",
      "metadata": {
        "id": "view-in-github",
        "colab_type": "text"
      },
      "source": [
        "<a href=\"https://colab.research.google.com/github/Pabloeboassi/algebra-lineal-y-optimizacion/blob/master/Copia_de_Actividad.ipynb\" target=\"_parent\"><img src=\"https://colab.research.google.com/assets/colab-badge.svg\" alt=\"Open In Colab\"/></a>"
      ]
    },
    {
      "cell_type": "markdown",
      "metadata": {
        "id": "o-mJrkqVPShG",
        "colab_type": "text"
      },
      "source": [
        "# Actividad (Bonus)\n",
        "\n",
        "Esta actividad servirá para probar el sistema para entregar las tareas y para que ustedes suelten las manos con Python. Esta tarea consta de 3 preguntas:\n",
        "\n",
        "- Buscando números primos (1 pto)\n",
        "- Creando una clase `Line` (2 pts)\n",
        "- Analizando un archivo `.csv` (3 pts)\n",
        "\n",
        "Cada punto será una décima que puedes sumar a una de tus actividades de clase a lo largo del semestre."
      ]
    },
    {
      "cell_type": "markdown",
      "metadata": {
        "id": "QWfPR0GqPShH",
        "colab_type": "text"
      },
      "source": [
        "## Buscando números primos\n",
        "\n",
        "En la celda de abajo tienes un valor llamado `numero_inicial` y otro `numero_final`. Tienes que hacer un programa que te imprima todos los números primosentre esos dos números. Recuerda que el 1 no es primo y que un número mayor a 2 es primo si es divisible solamente por 1 y por si mismo.\n",
        "\n",
        "Ojo que tu programa debe ser válido para cualquier par de números de `input`. Asume que el mínimo valor de `numero_inicial` va a ser 1 y el máximo valor de `numero_final` va a ser 10000 y que siempre tendrás que\n",
        "`numero_inicial` $<$ `numero_final`."
      ]
    },
    {
      "cell_type": "code",
      "metadata": {
        "id": "Pf2FwBrzPShJ",
        "colab_type": "code",
        "colab": {
          "base_uri": "https://localhost:8080/",
          "height": 310
        },
        "outputId": "0dc7873b-d43c-4b8f-b06f-4eecfa2c27d0"
      },
      "source": [
        "numero_inicial = int(input('Ingrese el número inicial: '))\n",
        "numero_final = int(input('Ingrese el número final: '))\n",
        "\n",
        "def dime_si_es_primo(numero):\n",
        "  for i in range(2,numero):\n",
        "    if (numero % i)== 0:\n",
        "      return False\n",
        "  return True\n",
        "\n",
        "for i in range(numero_inicial,numero_final):\n",
        "  if dime_si_es_primo(i):\n",
        "    print(i)\n",
        "\n",
        "# Haz un programa aquí que encuentre los primos\n",
        "# Dentro de lo posible, intenta utilizar funciones"
      ],
      "execution_count": null,
      "outputs": [
        {
          "output_type": "stream",
          "text": [
            "Ingrese el número inicial: 1\n",
            "Ingrese el número final: 50\n",
            "1\n",
            "2\n",
            "3\n",
            "5\n",
            "7\n",
            "11\n",
            "13\n",
            "17\n",
            "19\n",
            "23\n",
            "29\n",
            "31\n",
            "37\n",
            "41\n",
            "43\n",
            "47\n"
          ],
          "name": "stdout"
        }
      ]
    },
    {
      "cell_type": "markdown",
      "metadata": {
        "id": "xy6r1cdbPShS",
        "colab_type": "text"
      },
      "source": [
        "## Creando una clase Line\n",
        "\n",
        "En los ejemplos vimos una clase llamada `Point` que representaba un punto en el espacio. Ahora crearemos una clase `Line` que representa una recta en el espacio. El constructor debe recibir como parámetros dos puntos `p1` y `p2` y debe generar como atributos los valores `m` y `n` que representarán la pendiente y el coeficiente de posición respectivamente. Además debes implementar un método llamado `evaluate` que reciba un valor de `x` y te retorne el respectivo valor de `y` en la recta."
      ]
    },
    {
      "cell_type": "code",
      "metadata": {
        "id": "yM-FU0tJPShS",
        "colab_type": "code",
        "colab": {
          "base_uri": "https://localhost:8080/",
          "height": 51
        },
        "outputId": "82f25129-4af3-4592-f685-74bf568e5591"
      },
      "source": [
        "# La clase Point que puedes usar de base\n",
        "class Point:\n",
        "    def __init__(self, x, y):\n",
        "        self.x = x\n",
        "        self.y = y\n",
        "    \n",
        "    def move(self, delta_x, delta_y):\n",
        "        self.x = self.x + delta_x\n",
        "        self.y = self.y + delta_y\n",
        "    \n",
        "    def distance_to_0(self):\n",
        "        distance = (self.x**2 + self.y**2)**(1/2)\n",
        "        return distance\n",
        "        \n",
        "    def __str__(self):\n",
        "        return f'Punto de coordenadas ({self.x}, {self.y})'\n",
        "    \n",
        "# El template de la clase Line\n",
        "class Line:\n",
        "    def __init__(self, p1, p2):\n",
        "      self.m = (p1.y-p2.y)/(p1.x-p2.x)\n",
        "      self.n = p1.y - self.m*p1.x\n",
        "   \n",
        "       # pass # pass es no hacer nada\n",
        "    \n",
        "    def evaluate(self, x):\n",
        "      return self.m * x + self.n\n",
        "\n",
        "        # Debes retornar el valor de y asociado\n",
        "       # pass\n",
        "    \n",
        "# Ejemplo de cómo usar esto\n",
        "p1 = Point(1,3)\n",
        "p2 = Point(7, 14)\n",
        "l = Line(p1, p2)\n",
        "print(l)\n",
        "\n",
        "y = l.evaluate(4)\n",
        "print(y)"
      ],
      "execution_count": null,
      "outputs": [
        {
          "output_type": "stream",
          "text": [
            "<__main__.Line object at 0x7fa6edf00ba8>\n",
            "8.5\n"
          ],
          "name": "stdout"
        }
      ]
    },
    {
      "cell_type": "markdown",
      "metadata": {
        "id": "8yoDeNmpPShY",
        "colab_type": "text"
      },
      "source": [
        "## Analizando un archivo .csv\n",
        "\n",
        "En esta pregunta vas a tener que analizar un archivo `.csv`, te recomendamos usar la librería para leer `.csv` de Python. El archivo contiene información de jugadores de una liga de fútbol y tiene tres columnas: la primera indica el nombre del jugador, la segunda el número de fecha del torneo (fecha 1, 2, 3...) y la tercera los goles que hizo en aquella fecha.\n",
        "\n",
        "En esta pregunta debes hacer: \n",
        "1. Una función que lea el `.csv` y te retorne una lista de tuplas con los datos.\n",
        "2. Una función que reciba la lista de tuplas y un intervalo de dos fechas, y te imprima el número de goles que se hicieron entre esas dos fechas.\n",
        "3. Una función que reciba la lista de tuplas y te imprima el número de goles por jugador, ordenados desde el que hizo más al que hizo menos goles. "
      ]
    },
    {
      "cell_type": "code",
      "metadata": {
        "id": "HPZa4y64PShZ",
        "colab_type": "code",
        "colab": {}
      },
      "source": [
        "# Hacer el código para la pregunta aquí"
      ],
      "execution_count": null,
      "outputs": []
    },
    {
      "cell_type": "code",
      "metadata": {
        "id": "4stWJRipPShh",
        "colab_type": "code",
        "colab": {
          "base_uri": "https://localhost:8080/",
          "height": 1000
        },
        "outputId": "5a323d72-03ea-4dbb-a18b-347525a8dd87"
      },
      "source": [
        "\n",
        "\n",
        "import csv\n",
        "\n",
        "datos=[]\n",
        "with open('data.csv', newline='\\n') as csvfile:\n",
        "    reader = csv.reader(csvfile, delimiter=',')\n",
        "    for row in reader:\n",
        "      datos.append(row)\n",
        "\n",
        "def goles_entre_dos_fechas(fecha_i,fecha_f,l):\n",
        "  l2 = filter(lambda elemento: int(elemento[1])>=fecha_i and int(elemento[1])<=fecha_f,l)\n",
        "  goles_totales = 0\n",
        "  for elemento in l2:\n",
        "    goles_totales += int(elemento[2])\n",
        "  return goles_totales\n",
        "\n",
        "def goleadores(l):\n",
        "  l3= filter(lambda elemento: int(elemento[2])>0,l)\n",
        "  l3 = sorted(l, key=lambda element: element[2], reverse = True)\n",
        "  for elemento in l3:\n",
        "    if int(elemento[2])>1:\n",
        "      print('El '+ elemento[0] + ' hizo '+ elemento[2]+ ' goles')\n",
        "    else:\n",
        "      print('El '+ elemento[0] + ' hizo '+ elemento[2]+ ' gol')\n",
        "\n",
        "\n",
        "goles= goles_entre_dos_fechas(1,2,datos)\n",
        "print(\"La cantidad de goles hechos entre las fechas indicadas fue de:\")\n",
        "print(goles)\n",
        "print(\"La lista de goleadores es la siguiente\")\n",
        "goleadores=goleadores(l)\n"
      ],
      "execution_count": null,
      "outputs": [
        {
          "output_type": "stream",
          "text": [
            "La cantidad de goles hechos entre las fechas indicadas fue de:\n",
            "74\n",
            "La lista de goleadores es la siguiente\n",
            "El Jugador 14 hizo 4 goles\n",
            "El Jugador 27 hizo 4 goles\n",
            "El Jugador 26 hizo 4 goles\n",
            "El Jugador 3 hizo 4 goles\n",
            "El Jugador 28 hizo 4 goles\n",
            "El Jugador 26 hizo 4 goles\n",
            "El Jugador 22 hizo 4 goles\n",
            "El Jugador 18 hizo 4 goles\n",
            "El Jugador 29 hizo 4 goles\n",
            "El Jugador 27 hizo 4 goles\n",
            "El Jugador 7 hizo 4 goles\n",
            "El Jugador 17 hizo 4 goles\n",
            "El Jugador 8 hizo 4 goles\n",
            "El Jugador 7 hizo 4 goles\n",
            "El Jugador 22 hizo 4 goles\n",
            "El Jugador 28 hizo 4 goles\n",
            "El Jugador 9 hizo 4 goles\n",
            "El Jugador 6 hizo 4 goles\n",
            "El Jugador 28 hizo 4 goles\n",
            "El Jugador 18 hizo 4 goles\n",
            "El Jugador 11 hizo 4 goles\n",
            "El Jugador 22 hizo 4 goles\n",
            "El Jugador 23 hizo 3 goles\n",
            "El Jugador 29 hizo 3 goles\n",
            "El Jugador 25 hizo 3 goles\n",
            "El Jugador 18 hizo 3 goles\n",
            "El Jugador 10 hizo 3 goles\n",
            "El Jugador 9 hizo 3 goles\n",
            "El Jugador 17 hizo 3 goles\n",
            "El Jugador 14 hizo 3 goles\n",
            "El Jugador 20 hizo 3 goles\n",
            "El Jugador 5 hizo 3 goles\n",
            "El Jugador 28 hizo 3 goles\n",
            "El Jugador 13 hizo 3 goles\n",
            "El Jugador 24 hizo 3 goles\n",
            "El Jugador 19 hizo 3 goles\n",
            "El Jugador 26 hizo 3 goles\n",
            "El Jugador 5 hizo 3 goles\n",
            "El Jugador 5 hizo 2 goles\n",
            "El Jugador 4 hizo 2 goles\n",
            "El Jugador 4 hizo 2 goles\n",
            "El Jugador 17 hizo 2 goles\n",
            "El Jugador 21 hizo 2 goles\n",
            "El Jugador 11 hizo 2 goles\n",
            "El Jugador 20 hizo 2 goles\n",
            "El Jugador 25 hizo 2 goles\n",
            "El Jugador 16 hizo 2 goles\n",
            "El Jugador 10 hizo 2 goles\n",
            "El Jugador 18 hizo 2 goles\n",
            "El Jugador 25 hizo 2 goles\n",
            "El Jugador 3 hizo 2 goles\n",
            "El Jugador 19 hizo 2 goles\n",
            "El Jugador 5 hizo 2 goles\n",
            "El Jugador 24 hizo 2 goles\n",
            "El Jugador 23 hizo 2 goles\n",
            "El Jugador 3 hizo 2 goles\n",
            "El Jugador 23 hizo 2 goles\n",
            "El Jugador 2 hizo 2 goles\n",
            "El Jugador 24 hizo 1 gol\n",
            "El Jugador 23 hizo 1 gol\n",
            "El Jugador 3 hizo 1 gol\n",
            "El Jugador 9 hizo 1 gol\n",
            "El Jugador 10 hizo 1 gol\n",
            "El Jugador 1 hizo 1 gol\n",
            "El Jugador 22 hizo 1 gol\n",
            "El Jugador 6 hizo 1 gol\n",
            "El Jugador 15 hizo 1 gol\n",
            "El Jugador 29 hizo 1 gol\n",
            "El Jugador 16 hizo 1 gol\n",
            "El Jugador 26 hizo 1 gol\n",
            "El Jugador 14 hizo 1 gol\n",
            "El Jugador 24 hizo 1 gol\n"
          ],
          "name": "stdout"
        }
      ]
    }
  ]
}